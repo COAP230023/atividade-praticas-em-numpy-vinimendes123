{
  "nbformat": 4,
  "nbformat_minor": 0,
  "metadata": {
    "colab": {
      "provenance": [],
      "authorship_tag": "ABX9TyMzdqmrJcR3z6tRtCPUOVD8",
      "include_colab_link": true
    },
    "kernelspec": {
      "name": "python3",
      "display_name": "Python 3"
    },
    "language_info": {
      "name": "python"
    }
  },
  "cells": [
    {
      "cell_type": "markdown",
      "metadata": {
        "id": "view-in-github",
        "colab_type": "text"
      },
      "source": [
        "<a href=\"https://colab.research.google.com/github/COAP230023/atividade-praticas-em-numpy-vinimendes123/blob/main/Pr%C3%A1ticas_Devops.ipynb\" target=\"_parent\"><img src=\"https://colab.research.google.com/assets/colab-badge.svg\" alt=\"Open In Colab\"/></a>"
      ]
    },
    {
      "cell_type": "markdown",
      "source": [
        "# Fáceis"
      ],
      "metadata": {
        "id": "5uXy9rbJDokJ"
      }
    },
    {
      "cell_type": "code",
      "source": [
        "import numpy as np\n",
        "\n",
        "rng = np.random.default_rng(42)"
      ],
      "metadata": {
        "id": "sBfvJvArAZLi"
      },
      "execution_count": null,
      "outputs": []
    },
    {
      "cell_type": "code",
      "source": [
        "v1 = np.zeros(10)\n",
        "print(v1, v1.dtype, v1.shape)"
      ],
      "metadata": {
        "colab": {
          "base_uri": "https://localhost:8080/"
        },
        "id": "y-c4sheIBT_r",
        "outputId": "b156982b-28c0-45af-ded1-f13c9fa161d4"
      },
      "execution_count": null,
      "outputs": [
        {
          "output_type": "stream",
          "name": "stdout",
          "text": [
            "[0. 0. 0. 0. 0. 0. 0. 0. 0. 0.] float64 (10,)\n"
          ]
        }
      ]
    },
    {
      "cell_type": "code",
      "source": [
        "v2 = np.ones(10, dtype=np.float64)\n",
        "print(v2, v2.dtype)"
      ],
      "metadata": {
        "colab": {
          "base_uri": "https://localhost:8080/"
        },
        "id": "WwJoF1liBi_W",
        "outputId": "89757615-f3b1-41c3-ec51-85ce16cdab6d"
      },
      "execution_count": null,
      "outputs": [
        {
          "output_type": "stream",
          "name": "stdout",
          "text": [
            "[1. 1. 1. 1. 1. 1. 1. 1. 1. 1.] float64\n"
          ]
        }
      ]
    },
    {
      "cell_type": "code",
      "source": [
        "v3 = np.arange(10)\n",
        "print(v3)"
      ],
      "metadata": {
        "colab": {
          "base_uri": "https://localhost:8080/"
        },
        "id": "gdBzGPEwBoOK",
        "outputId": "0c03471b-4d47-4667-e05c-e76f8dabceed"
      },
      "execution_count": null,
      "outputs": [
        {
          "output_type": "stream",
          "name": "stdout",
          "text": [
            "[0 1 2 3 4 5 6 7 8 9]\n"
          ]
        }
      ]
    },
    {
      "cell_type": "code",
      "source": [
        "A4 = np.arange(9).reshape(3,3)\n",
        "print(A4)"
      ],
      "metadata": {
        "colab": {
          "base_uri": "https://localhost:8080/"
        },
        "id": "fhKfIaPQBvbB",
        "outputId": "beff55a2-07bf-4bd7-cc45-d40278be7f30"
      },
      "execution_count": null,
      "outputs": [
        {
          "output_type": "stream",
          "name": "stdout",
          "text": [
            "[[0 1 2]\n",
            " [3 4 5]\n",
            " [6 7 8]]\n"
          ]
        }
      ]
    },
    {
      "cell_type": "code",
      "source": [
        "v5 = np.array([1,2,0,0,4,0])\n",
        "idx5 = np.nonzero(v5)[0]\n",
        "print(idx5)"
      ],
      "metadata": {
        "colab": {
          "base_uri": "https://localhost:8080/"
        },
        "id": "smW6AQDVB0Yw",
        "outputId": "d550d2cc-ec79-4058-fa44-a07b12aaca18"
      },
      "execution_count": null,
      "outputs": [
        {
          "output_type": "stream",
          "name": "stdout",
          "text": [
            "[0 1 4]\n"
          ]
        }
      ]
    },
    {
      "cell_type": "code",
      "source": [
        "v6 = np.linspace(0,1,12)\n",
        "print(v6)"
      ],
      "metadata": {
        "colab": {
          "base_uri": "https://localhost:8080/"
        },
        "id": "1rzTGXOmB6d8",
        "outputId": "635780ca-7f38-4e38-9576-f66d287ef5db"
      },
      "execution_count": null,
      "outputs": [
        {
          "output_type": "stream",
          "name": "stdout",
          "text": [
            "[0.         0.09090909 0.18181818 0.27272727 0.36363636 0.45454545\n",
            " 0.54545455 0.63636364 0.72727273 0.81818182 0.90909091 1.        ]\n"
          ]
        }
      ]
    },
    {
      "cell_type": "code",
      "source": [
        "I7 = np.eye(5)\n",
        "print(I7)"
      ],
      "metadata": {
        "colab": {
          "base_uri": "https://localhost:8080/"
        },
        "id": "Y9vZsTJ2CDpl",
        "outputId": "86b0150c-7c44-49a2-f901-243f5b5d6cd6"
      },
      "execution_count": null,
      "outputs": [
        {
          "output_type": "stream",
          "name": "stdout",
          "text": [
            "[[1. 0. 0. 0. 0.]\n",
            " [0. 1. 0. 0. 0.]\n",
            " [0. 0. 1. 0. 0.]\n",
            " [0. 0. 0. 1. 0.]\n",
            " [0. 0. 0. 0. 1.]]\n"
          ]
        }
      ]
    },
    {
      "cell_type": "code",
      "source": [
        "A8 = rng.random((3,3,3))\n",
        "print(A8)"
      ],
      "metadata": {
        "colab": {
          "base_uri": "https://localhost:8080/"
        },
        "id": "URPQGia1CLjj",
        "outputId": "262c50c9-a6f5-4081-9d70-c3ea2e737009"
      },
      "execution_count": null,
      "outputs": [
        {
          "output_type": "stream",
          "name": "stdout",
          "text": [
            "[[[0.77395605 0.43887844 0.85859792]\n",
            "  [0.69736803 0.09417735 0.97562235]\n",
            "  [0.7611397  0.78606431 0.12811363]]\n",
            "\n",
            " [[0.45038594 0.37079802 0.92676499]\n",
            "  [0.64386512 0.82276161 0.4434142 ]\n",
            "  [0.22723872 0.55458479 0.06381726]]\n",
            "\n",
            " [[0.82763117 0.6316644  0.75808774]\n",
            "  [0.35452597 0.97069802 0.89312112]\n",
            "  [0.7783835  0.19463871 0.466721  ]]]\n"
          ]
        }
      ]
    },
    {
      "cell_type": "code",
      "source": [
        "A9 = rng.random((10,10))\n",
        "print(A9.min(), A9.max())"
      ],
      "metadata": {
        "colab": {
          "base_uri": "https://localhost:8080/"
        },
        "id": "LqQznsDLCRgL",
        "outputId": "5bb97058-8b72-4cb5-fa2b-5cdddad4d3da"
      },
      "execution_count": null,
      "outputs": [
        {
          "output_type": "stream",
          "name": "stdout",
          "text": [
            "0.007362269751005512 0.9691763773477239\n"
          ]
        }
      ]
    },
    {
      "cell_type": "code",
      "source": [
        "x10 = np.array([1,2,3,4,5], dtype=float)\n",
        "x10_norm = (x10 - x10.mean())/x10.std()\n",
        "print(x10_norm)"
      ],
      "metadata": {
        "colab": {
          "base_uri": "https://localhost:8080/"
        },
        "id": "J6BVGklJCVpV",
        "outputId": "2513d855-f36b-4472-a802-d5b95bee436c"
      },
      "execution_count": null,
      "outputs": [
        {
          "output_type": "stream",
          "name": "stdout",
          "text": [
            "[-1.41421356 -0.70710678  0.          0.70710678  1.41421356]\n"
          ]
        }
      ]
    },
    {
      "cell_type": "code",
      "source": [
        "x11 = np.array([1,2,3], dtype=np.int32).astype(np.float32).astype(np.int64)\n",
        "print(x11, x11.dtype)"
      ],
      "metadata": {
        "colab": {
          "base_uri": "https://localhost:8080/"
        },
        "id": "6YGlbWa8CkZD",
        "outputId": "de727fa3-2799-40b2-fb56-ee1caacab067"
      },
      "execution_count": null,
      "outputs": [
        {
          "output_type": "stream",
          "name": "stdout",
          "text": [
            "[1 2 3] int64\n"
          ]
        }
      ]
    },
    {
      "cell_type": "code",
      "source": [
        "a12 = np.array([2,5,7,1,9])\n",
        "a12_clip = np.clip(a12, 0, 5)\n",
        "print(a12_clip)"
      ],
      "metadata": {
        "colab": {
          "base_uri": "https://localhost:8080/"
        },
        "id": "ViMZuAi3CqAh",
        "outputId": "bda4f032-7f6d-47a6-a17c-99ba1537cdfb"
      },
      "execution_count": null,
      "outputs": [
        {
          "output_type": "stream",
          "name": "stdout",
          "text": [
            "[2 5 5 1 5]\n"
          ]
        }
      ]
    },
    {
      "cell_type": "code",
      "source": [
        "v13 = np.arange(10)\n",
        "v13_inv = np.flip(v13)\n",
        "print(v13_inv)"
      ],
      "metadata": {
        "colab": {
          "base_uri": "https://localhost:8080/"
        },
        "id": "DGQ5IM7IDEdY",
        "outputId": "dce3c428-e87c-4b92-d5b8-f042a318f071"
      },
      "execution_count": null,
      "outputs": [
        {
          "output_type": "stream",
          "name": "stdout",
          "text": [
            "[9 8 7 6 5 4 3 2 1 0]\n"
          ]
        }
      ]
    },
    {
      "cell_type": "code",
      "source": [
        "a14 = np.array([1,2,3])\n",
        "b14 = np.array([4,5,6])\n",
        "hstack14 = np.hstack([a14,b14])\n",
        "vstack14 = np.vstack([a14,b14])\n",
        "print(hstack14)\n",
        "print(vstack14)"
      ],
      "metadata": {
        "colab": {
          "base_uri": "https://localhost:8080/"
        },
        "id": "5yutvRYaDltS",
        "outputId": "484a08fc-8f51-412e-bc9d-a4c4ec7ec979"
      },
      "execution_count": null,
      "outputs": [
        {
          "output_type": "stream",
          "name": "stdout",
          "text": [
            "[1 2 3 4 5 6]\n",
            "[[1 2 3]\n",
            " [4 5 6]]\n"
          ]
        }
      ]
    },
    {
      "cell_type": "code",
      "source": [
        "A15 = np.diag([5]*4)\n",
        "print(A15)"
      ],
      "metadata": {
        "colab": {
          "base_uri": "https://localhost:8080/"
        },
        "id": "gjCtmOBvD2jj",
        "outputId": "c8ffe285-53de-452f-a886-fdab60e3f377"
      },
      "execution_count": null,
      "outputs": [
        {
          "output_type": "stream",
          "name": "stdout",
          "text": [
            "[[5 0 0 0]\n",
            " [0 5 0 0]\n",
            " [0 0 5 0]\n",
            " [0 0 0 5]]\n"
          ]
        }
      ]
    },
    {
      "cell_type": "code",
      "source": [
        "A16 = np.arange(12).reshape(3,4)\n",
        "print(A16.sum(axis=0))\n",
        "print(A16.sum(axis=1))"
      ],
      "metadata": {
        "colab": {
          "base_uri": "https://localhost:8080/"
        },
        "id": "kGZAJcPnD_8V",
        "outputId": "6c691e88-e5cb-4c3d-9f78-dc7a2910db4c"
      },
      "execution_count": null,
      "outputs": [
        {
          "output_type": "stream",
          "name": "stdout",
          "text": [
            "[12 15 18 21]\n",
            "[ 6 22 38]\n"
          ]
        }
      ]
    },
    {
      "cell_type": "code",
      "source": [
        "v17 = rng.integers(0,10,100)\n",
        "freq17 = np.bincount(v17, minlength=10)\n",
        "print(freq17)"
      ],
      "metadata": {
        "colab": {
          "base_uri": "https://localhost:8080/"
        },
        "id": "bO3Gp4aSEFUY",
        "outputId": "46d37942-e42b-4e59-8acb-5339aeb5f8c8"
      },
      "execution_count": null,
      "outputs": [
        {
          "output_type": "stream",
          "name": "stdout",
          "text": [
            "[ 7 13 13  9 11 13 10  5  6 13]\n"
          ]
        }
      ]
    },
    {
      "cell_type": "code",
      "source": [
        "v18 = np.arange(20)\n",
        "sel18 = v18[1::3]\n",
        "print(sel18)\n"
      ],
      "metadata": {
        "colab": {
          "base_uri": "https://localhost:8080/"
        },
        "id": "Pc6LlsCpEIne",
        "outputId": "e570fe22-16db-4eb3-beee-48b82a1b6d1a"
      },
      "execution_count": null,
      "outputs": [
        {
          "output_type": "stream",
          "name": "stdout",
          "text": [
            "[ 1  4  7 10 13 16 19]\n"
          ]
        }
      ]
    },
    {
      "cell_type": "code",
      "source": [
        "v19 = np.arange(20)\n",
        "mask19 = v19%2==0\n",
        "print(v19[mask19])"
      ],
      "metadata": {
        "colab": {
          "base_uri": "https://localhost:8080/"
        },
        "id": "J4vadjOKEO1b",
        "outputId": "478526cc-d69c-43fc-858c-af26c972b3ec"
      },
      "execution_count": null,
      "outputs": [
        {
          "output_type": "stream",
          "name": "stdout",
          "text": [
            "[ 0  2  4  6  8 10 12 14 16 18]\n"
          ]
        }
      ]
    },
    {
      "cell_type": "code",
      "source": [
        "lst20 = [[1,2,3],[4,5,6]]\n",
        "arr20 = np.array(lst20)\n",
        "print(arr20, arr20.shape, arr20.dtype)"
      ],
      "metadata": {
        "colab": {
          "base_uri": "https://localhost:8080/"
        },
        "id": "YKfoJm4-EZrc",
        "outputId": "b67675e9-876a-426b-a769-b79dbb18016a"
      },
      "execution_count": null,
      "outputs": [
        {
          "output_type": "stream",
          "name": "stdout",
          "text": [
            "[[1 2 3]\n",
            " [4 5 6]] (2, 3) int64\n"
          ]
        }
      ]
    },
    {
      "cell_type": "code",
      "source": [
        "dates21 = np.arange(np.datetime64('2025-01-01'), np.datetime64('2025-01-08'))\n",
        "print(dates21)"
      ],
      "metadata": {
        "colab": {
          "base_uri": "https://localhost:8080/"
        },
        "id": "oqD7jplAEd61",
        "outputId": "e44c5e17-4240-49c4-a90b-f4bf1f80df11"
      },
      "execution_count": null,
      "outputs": [
        {
          "output_type": "stream",
          "name": "stdout",
          "text": [
            "['2025-01-01' '2025-01-02' '2025-01-03' '2025-01-04' '2025-01-05'\n",
            " '2025-01-06' '2025-01-07']\n"
          ]
        }
      ]
    },
    {
      "cell_type": "code",
      "source": [
        "A22 = np.array([[1.,2.,3.],[4.,5.,6.]])\n",
        "A22_centered = A22 - A22.mean(axis=0)\n",
        "print(A22_centered)"
      ],
      "metadata": {
        "colab": {
          "base_uri": "https://localhost:8080/"
        },
        "id": "GyxTZnmGEhIn",
        "outputId": "40291374-69de-4201-a19b-e6427d128e88"
      },
      "execution_count": null,
      "outputs": [
        {
          "output_type": "stream",
          "name": "stdout",
          "text": [
            "[[-1.5 -1.5 -1.5]\n",
            " [ 1.5  1.5  1.5]]\n"
          ]
        }
      ]
    },
    {
      "cell_type": "code",
      "source": [
        "a23 = np.array([1,2,3])\n",
        "b23 = np.array([4,5,6])\n",
        "elem_prod23 = a23*b23\n",
        "dot_prod23 = a23 @ b23\n",
        "print(elem_prod23, dot_prod23)"
      ],
      "metadata": {
        "colab": {
          "base_uri": "https://localhost:8080/"
        },
        "id": "vMPOeNtYEoV8",
        "outputId": "6e68776b-b6cd-48cc-8f9a-78a281061765"
      },
      "execution_count": null,
      "outputs": [
        {
          "output_type": "stream",
          "name": "stdout",
          "text": [
            "[ 4 10 18] 32\n"
          ]
        }
      ]
    },
    {
      "cell_type": "code",
      "source": [
        "A24 = np.arange(12).reshape(3,4)\n",
        "A24[:,[0,2]] = A24[:,[2,0]]\n",
        "print(A24)"
      ],
      "metadata": {
        "colab": {
          "base_uri": "https://localhost:8080/"
        },
        "id": "My0RF3JeEvlA",
        "outputId": "c157ef2f-e4d7-4df1-d547-d4fb03be5f47"
      },
      "execution_count": null,
      "outputs": [
        {
          "output_type": "stream",
          "name": "stdout",
          "text": [
            "[[ 2  1  0  3]\n",
            " [ 6  5  4  7]\n",
            " [10  9  8 11]]\n"
          ]
        }
      ]
    },
    {
      "cell_type": "markdown",
      "source": [
        "# Médios"
      ],
      "metadata": {
        "id": "zmvwwktUEyhU"
      }
    },
    {
      "cell_type": "code",
      "source": [
        "A25 = np.arange(9).reshape(3,3)\n",
        "flat = A25.flatten()\n",
        "rav = A25.ravel()\n",
        "rav[0] = 99\n",
        "print(\"A25:\\n\", A25)\n",
        "print(\"flatten (cópia):\", flat)"
      ],
      "metadata": {
        "colab": {
          "base_uri": "https://localhost:8080/"
        },
        "id": "yYcm8TquE0-J",
        "outputId": "2372ea84-9127-4661-a2a2-2aaaf3f7c31e"
      },
      "execution_count": null,
      "outputs": [
        {
          "output_type": "stream",
          "name": "stdout",
          "text": [
            "A25:\n",
            " [[99  1  2]\n",
            " [ 3  4  5]\n",
            " [ 6  7  8]]\n",
            "flatten (cópia): [0 1 2 3 4 5 6 7 8]\n"
          ]
        }
      ]
    },
    {
      "cell_type": "code",
      "source": [
        "A26 = np.zeros((8,8), dtype=int)\n",
        "A26[1::2, ::2] = 1\n",
        "A26[::2, 1::2] = 1\n",
        "print(A26)"
      ],
      "metadata": {
        "colab": {
          "base_uri": "https://localhost:8080/"
        },
        "id": "LhNcDWhkF6Eo",
        "outputId": "dfd68cfa-a3a3-4cde-d971-3f184df90504"
      },
      "execution_count": null,
      "outputs": [
        {
          "output_type": "stream",
          "name": "stdout",
          "text": [
            "[[0 1 0 1 0 1 0 1]\n",
            " [1 0 1 0 1 0 1 0]\n",
            " [0 1 0 1 0 1 0 1]\n",
            " [1 0 1 0 1 0 1 0]\n",
            " [0 1 0 1 0 1 0 1]\n",
            " [1 0 1 0 1 0 1 0]\n",
            " [0 1 0 1 0 1 0 1]\n",
            " [1 0 1 0 1 0 1 0]]\n"
          ]
        }
      ]
    },
    {
      "cell_type": "code",
      "source": [
        "x27 = np.arange(-5,6)\n",
        "y27 = np.where(x27 < 0, 0, x27)\n",
        "print(y27)"
      ],
      "metadata": {
        "colab": {
          "base_uri": "https://localhost:8080/"
        },
        "id": "MTHU7-C0F9II",
        "outputId": "c8d91697-bec2-4b9b-c407-bc07d849b5df"
      },
      "execution_count": null,
      "outputs": [
        {
          "output_type": "stream",
          "name": "stdout",
          "text": [
            "[0 0 0 0 0 0 1 2 3 4 5]\n"
          ]
        }
      ]
    },
    {
      "cell_type": "code",
      "source": [
        "v28 = rng.random(1_000_000)\n",
        "mean28 = v28.mean()\n",
        "err28 = abs(mean28 - 0.5)\n",
        "print(\"Média:\", mean28, \"Erro absoluto:\", err28)"
      ],
      "metadata": {
        "colab": {
          "base_uri": "https://localhost:8080/"
        },
        "id": "vDLzeyp6F_z7",
        "outputId": "bfaf2995-7ccc-41f6-f129-119ca3292ec3"
      },
      "execution_count": null,
      "outputs": [
        {
          "output_type": "stream",
          "name": "stdout",
          "text": [
            "Média: 0.49980731176580057 Erro absoluto: 0.00019268823419943404\n"
          ]
        }
      ]
    },
    {
      "cell_type": "code",
      "source": [
        "a29 = np.array([1,2,3])[:,None]\n",
        "b29 = np.array([10,20,30,40])\n",
        "sumas29 = a29 + b29\n",
        "print(sumas29)"
      ],
      "metadata": {
        "colab": {
          "base_uri": "https://localhost:8080/"
        },
        "id": "c_RxrlhVGEja",
        "outputId": "0edb8dde-99cb-467f-8d52-a498919f1e99"
      },
      "execution_count": null,
      "outputs": [
        {
          "output_type": "stream",
          "name": "stdout",
          "text": [
            "[[11 21 31 41]\n",
            " [12 22 32 42]\n",
            " [13 23 33 43]]\n"
          ]
        }
      ]
    },
    {
      "cell_type": "code",
      "source": [
        "s30 = np.array([1,2,3,4,5])\n",
        "k30 = np.array([2,1])\n",
        "slices30 = np.lib.stride_tricks.sliding_window_view(s30, k30.size)\n",
        "conv30 = (slices30 @ np.flip(k30))\n",
        "print(conv30)"
      ],
      "metadata": {
        "colab": {
          "base_uri": "https://localhost:8080/"
        },
        "id": "t0pZm1WoGJ_O",
        "outputId": "bb346fcc-d79b-4751-adeb-59520734d6b4"
      },
      "execution_count": null,
      "outputs": [
        {
          "output_type": "stream",
          "name": "stdout",
          "text": [
            "[ 5  8 11 14]\n"
          ]
        }
      ]
    },
    {
      "cell_type": "code",
      "source": [
        "A31 = rng.normal(size=(5,4))\n",
        "mins = A31.min(axis=0)\n",
        "maxs = A31.max(axis=0)\n",
        "range_ = np.where(maxs != mins, maxs - mins, 1)\n",
        "A31_norm = (A31 - mins) / range_\n",
        "print(A31_norm)"
      ],
      "metadata": {
        "colab": {
          "base_uri": "https://localhost:8080/"
        },
        "id": "3nofT7VWGOq8",
        "outputId": "e0ae0d21-86c7-4830-eff7-abedf7a98531"
      },
      "execution_count": null,
      "outputs": [
        {
          "output_type": "stream",
          "name": "stdout",
          "text": [
            "[[0.         0.         1.         0.41313387]\n",
            " [0.79280353 0.54514049 0.61975483 0.21378068]\n",
            " [0.74526422 1.         0.88157697 0.        ]\n",
            " [1.         0.52847777 0.         1.        ]\n",
            " [0.26708366 0.07373189 0.75682388 0.25497525]]\n"
          ]
        }
      ]
    },
    {
      "cell_type": "code",
      "source": [
        "A32 = np.array([[3,9],[1,4],[2,5]])\n",
        "A32_sorted = A32[A32[:,1].argsort()]\n",
        "print(A32_sorted)"
      ],
      "metadata": {
        "id": "zXKL3-XbGVLq",
        "outputId": "cb1c1528-decd-4e4b-9839-ccaa8e2486c3",
        "colab": {
          "base_uri": "https://localhost:8080/"
        }
      },
      "execution_count": null,
      "outputs": [
        {
          "output_type": "stream",
          "name": "stdout",
          "text": [
            "[[1 4]\n",
            " [2 5]\n",
            " [3 9]]\n"
          ]
        }
      ]
    },
    {
      "cell_type": "code",
      "source": [
        "x33 = np.array([3,1,2,3,2,3,1])\n",
        "u33, idx33, counts33 = np.unique(x33, return_index=True, return_counts=True)\n",
        "print(\"Únicos:\", u33)\n",
        "print(\"Primeira ocorrência:\", idx33)\n",
        "print(\"Contagens:\", counts33)"
      ],
      "metadata": {
        "colab": {
          "base_uri": "https://localhost:8080/"
        },
        "id": "jk1TjIvhH1R6",
        "outputId": "d628eb49-dd41-466a-d1d5-68b32bb88c1e"
      },
      "execution_count": 36,
      "outputs": [
        {
          "output_type": "stream",
          "name": "stdout",
          "text": [
            "Únicos: [1 2 3]\n",
            "Primeira ocorrência: [1 2 0]\n",
            "Contagens: [2 2 3]\n"
          ]
        }
      ]
    },
    {
      "cell_type": "code",
      "source": [
        "P34 = rng.random((5,2))\n",
        "d2 = ((P34[:,None,:] - P34[None,:,:])**2).sum(axis=2)\n",
        "D34 = np.sqrt(d2)\n",
        "print(D34)"
      ],
      "metadata": {
        "colab": {
          "base_uri": "https://localhost:8080/"
        },
        "id": "gln7iwYaKMOS",
        "outputId": "a0d574d0-400c-4a2d-9a80-5e8333ef10c4"
      },
      "execution_count": 37,
      "outputs": [
        {
          "output_type": "stream",
          "name": "stdout",
          "text": [
            "[[0.         0.60662871 0.54639411 0.42079762 0.08458608]\n",
            " [0.60662871 0.         0.65227148 0.67621534 0.56548922]\n",
            " [0.54639411 0.65227148 0.         0.15774482 0.46375412]\n",
            " [0.42079762 0.67621534 0.15774482 0.         0.34435127]\n",
            " [0.08458608 0.56548922 0.46375412 0.34435127 0.        ]]\n"
          ]
        }
      ]
    },
    {
      "cell_type": "code",
      "source": [
        "A35 = rng.standard_normal((1000,3))\n",
        "cov35 = np.cov(A35, rowvar=False)\n",
        "corr35 = np.corrcoef(A35, rowvar=False)\n",
        "print(\"Cov:\\n\", cov35)\n",
        "print(\"Corr:\\n\", corr35)"
      ],
      "metadata": {
        "colab": {
          "base_uri": "https://localhost:8080/"
        },
        "id": "bDxOVwP9KQRt",
        "outputId": "b246256f-1677-4d4b-d4d9-166be5c603f7"
      },
      "execution_count": 38,
      "outputs": [
        {
          "output_type": "stream",
          "name": "stdout",
          "text": [
            "Cov:\n",
            " [[ 0.97786566 -0.00923633 -0.01748112]\n",
            " [-0.00923633  1.01623999 -0.02659413]\n",
            " [-0.01748112 -0.02659413  1.08694138]]\n",
            "Corr:\n",
            " [[ 1.         -0.00926534 -0.01695612]\n",
            " [-0.00926534  1.         -0.02530373]\n",
            " [-0.01695612 -0.02530373  1.        ]]\n"
          ]
        }
      ]
    },
    {
      "cell_type": "code",
      "source": [
        "y36 = np.array([2,0,1,2])\n",
        "onehot36 = np.eye(y36.max()+1)[y36]\n",
        "print(onehot36)"
      ],
      "metadata": {
        "colab": {
          "base_uri": "https://localhost:8080/"
        },
        "id": "a5bMv--OKUEM",
        "outputId": "63d5ed5a-e7fe-4d7a-f7d2-37010a3afaa0"
      },
      "execution_count": 39,
      "outputs": [
        {
          "output_type": "stream",
          "name": "stdout",
          "text": [
            "[[0. 0. 1.]\n",
            " [1. 0. 0.]\n",
            " [0. 1. 0.]\n",
            " [0. 0. 1.]]\n"
          ]
        }
      ]
    },
    {
      "cell_type": "markdown",
      "source": [
        "# Difíceis"
      ],
      "metadata": {
        "id": "e4Cg-72IKVp9"
      }
    },
    {
      "cell_type": "code",
      "source": [],
      "metadata": {
        "id": "sYhJoyQJKYkR"
      },
      "execution_count": null,
      "outputs": []
    }
  ]
}